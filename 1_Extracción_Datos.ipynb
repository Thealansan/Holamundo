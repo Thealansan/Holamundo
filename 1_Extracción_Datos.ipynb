{
  "nbformat": 4,
  "nbformat_minor": 0,
  "metadata": {
    "colab": {
      "provenance": [],
      "authorship_tag": "ABX9TyP65ZxK/10Ox8qKPOtUYwk/",
      "include_colab_link": true
    },
    "kernelspec": {
      "name": "python3",
      "display_name": "Python 3"
    },
    "language_info": {
      "name": "python"
    }
  },
  "cells": [
    {
      "cell_type": "markdown",
      "metadata": {
        "id": "view-in-github",
        "colab_type": "text"
      },
      "source": [
        "<a href=\"https://colab.research.google.com/github/Thealansan/Holamundo/blob/main/1_Extracci%C3%B3n_Datos.ipynb\" target=\"_parent\"><img src=\"https://colab.research.google.com/assets/colab-badge.svg\" alt=\"Open In Colab\"/></a>"
      ]
    },
    {
      "cell_type": "code",
      "execution_count": 17,
      "metadata": {
        "id": "wBfyIW4Dp2_F"
      },
      "outputs": [],
      "source": [
        "#Importamos líbrerias requeridas\n",
        "import pandas as pd \n",
        "import numpy as np \n",
        "import matplotlib.pyplot as plt \n",
        "import seaborn as sns \n",
        "import io "
      ]
    },
    {
      "cell_type": "code",
      "source": [
        "#Cargra archivo vsc desde equipo \n",
        "from google.colab import files\n",
        "files.upload()"
      ],
      "metadata": {
        "id": "xrgWzWDlsc3y"
      },
      "execution_count": null,
      "outputs": []
    },
    {
      "cell_type": "code",
      "source": [
        "#Convertir en dataframe \n",
        "df= pd.read_csv(\"file.csv\")\n",
        "df"
      ],
      "metadata": {
        "id": "QnfW5stCswJ5"
      },
      "execution_count": null,
      "outputs": []
    },
    {
      "cell_type": "code",
      "source": [
        "#Imprimimos las primeas filas o registros del Dataframe \n",
        "df.head(5)"
      ],
      "metadata": {
        "id": "yhIaQdI7tmPA"
      },
      "execution_count": null,
      "outputs": []
    },
    {
      "cell_type": "code",
      "source": [
        "#Filtro por objeto \n",
        "filtro1=df[df[\"Entidad_Federativa\"]== \"Baja California\"]\n",
        "filtro1"
      ],
      "metadata": {
        "id": "O6UpDL4Vtvro"
      },
      "execution_count": null,
      "outputs": []
    },
    {
      "cell_type": "code",
      "source": [
        "#Filtro por filas \n",
        "filtro2= df.iloc[0:99,: ]\n",
        "#filtro2=df.iloc[[1000,2000,3000], : ] #filas no consecutivas\n",
        "filtro2"
      ],
      "metadata": {
        "id": "KF3-IFT4vj9g"
      },
      "execution_count": null,
      "outputs": []
    },
    {
      "cell_type": "code",
      "source": [
        "#Filtros por columnas \n",
        "#filtro3=df.iloc[: , 4:6]\n",
        "filtro3=df.iloc[:, [1,4,6]] #columnas no consecutivas \n",
        "filtro3"
      ],
      "metadata": {
        "id": "YpDpae4NxIK2"
      },
      "execution_count": null,
      "outputs": []
    },
    {
      "cell_type": "code",
      "source": [
        "#Filtro por columnas y por filas\n",
        "filtro_mix=df.iloc[ [10,20,50], 2:5]\n",
        "#filtro3=df.iloc[: , [1,4.6]] #columnas no consecutivas\n",
        "filtro_mix"
      ],
      "metadata": {
        "id": "TGh4D8iAynR_"
      },
      "execution_count": null,
      "outputs": []
    },
    {
      "cell_type": "code",
      "source": [
        "#Filtro de filas vs columnas \n",
        "#Paso 1: Leemos el contenido del archivo \n",
        "from google.colab import files \n",
        "uploaded=files.upload()\n",
        "df= pd.read_csv(io.BytesIO(uploaded['file.csv']), index_col=2)\n",
        "df"
      ],
      "metadata": {
        "id": "-Kvve1AWzgR7"
      },
      "execution_count": null,
      "outputs": []
    },
    {
      "cell_type": "code",
      "source": [
        "#Paso 2 Aplicamos Filtro de filas vs columnas \n",
        "filtro4=df.loc[[\"Puebla\",\"Durango\"],[\"Poblacion_ocupada_en_la_industria_manufacturera\"]]\n",
        "filtro4"
      ],
      "metadata": {
        "id": "hMiTgl_a1H2O"
      },
      "execution_count": null,
      "outputs": []
    },
    {
      "cell_type": "code",
      "source": [
        "#Filtro por cabecera\n",
        "filtro5=df.head()\n",
        "filtro5"
      ],
      "metadata": {
        "id": "oV_3v1fj3PRg"
      },
      "execution_count": null,
      "outputs": []
    },
    {
      "cell_type": "code",
      "source": [
        "#Filtro de comparacion \n",
        "filtro6=df[df[\"Periodo\"] >2010]\n",
        "filtro6"
      ],
      "metadata": {
        "id": "SbInYZhK5G6g"
      },
      "execution_count": null,
      "outputs": []
    },
    {
      "cell_type": "code",
      "source": [
        "#Filtro Y \n",
        "filtro7=df[(df[\"Periodo\"] == 2015) & (df[\"Sexo\"]== \"Hombres\") & (df[\"Trimestre\"] == 1)]\n",
        "filtro7"
      ],
      "metadata": {
        "id": "NS-VsVXr7oBE"
      },
      "execution_count": null,
      "outputs": []
    },
    {
      "cell_type": "code",
      "source": [
        "#Filtro o \n",
        "filtro8=df[(df[\"Periodo\"] > 2006) | (df[\"Sexo\"] == \"Mujeres\")]\n",
        "filtro8"
      ],
      "metadata": {
        "id": "L0KHPx0O9z_r"
      },
      "execution_count": null,
      "outputs": []
    },
    {
      "cell_type": "code",
      "source": [
        "#Filtro not \n",
        "filtro9=df[~(df[\"Periodo\"] >= 2006) &~ (df[\"Sexo\"] == \"Mujeres\")] \n",
        "filtro9"
      ],
      "metadata": {
        "id": "l5l7gycdA8pj"
      },
      "execution_count": null,
      "outputs": []
    },
    {
      "cell_type": "code",
      "source": [
        "#Convertir archivo filtrado a CSV \n",
        "filtro9.to_csv(\"Entregable1.csv\")"
      ],
      "metadata": {
        "id": "TBw_VYS5CBST"
      },
      "execution_count": 33,
      "outputs": []
    },
    {
      "cell_type": "code",
      "source": [
        "#Descargar archivo filtrado en csv \n",
        "from google.colab import files \n",
        "\n",
        "files.download(\"Entregable1.csv\")"
      ],
      "metadata": {
        "colab": {
          "base_uri": "https://localhost:8080/",
          "height": 17
        },
        "id": "1nF_976uCPy5",
        "outputId": "ac550022-7578-4ae3-df38-f6a6f88ec7f0"
      },
      "execution_count": 34,
      "outputs": [
        {
          "output_type": "display_data",
          "data": {
            "text/plain": [
              "<IPython.core.display.Javascript object>"
            ],
            "application/javascript": [
              "\n",
              "    async function download(id, filename, size) {\n",
              "      if (!google.colab.kernel.accessAllowed) {\n",
              "        return;\n",
              "      }\n",
              "      const div = document.createElement('div');\n",
              "      const label = document.createElement('label');\n",
              "      label.textContent = `Downloading \"${filename}\": `;\n",
              "      div.appendChild(label);\n",
              "      const progress = document.createElement('progress');\n",
              "      progress.max = size;\n",
              "      div.appendChild(progress);\n",
              "      document.body.appendChild(div);\n",
              "\n",
              "      const buffers = [];\n",
              "      let downloaded = 0;\n",
              "\n",
              "      const channel = await google.colab.kernel.comms.open(id);\n",
              "      // Send a message to notify the kernel that we're ready.\n",
              "      channel.send({})\n",
              "\n",
              "      for await (const message of channel.messages) {\n",
              "        // Send a message to notify the kernel that we're ready.\n",
              "        channel.send({})\n",
              "        if (message.buffers) {\n",
              "          for (const buffer of message.buffers) {\n",
              "            buffers.push(buffer);\n",
              "            downloaded += buffer.byteLength;\n",
              "            progress.value = downloaded;\n",
              "          }\n",
              "        }\n",
              "      }\n",
              "      const blob = new Blob(buffers, {type: 'application/binary'});\n",
              "      const a = document.createElement('a');\n",
              "      a.href = window.URL.createObjectURL(blob);\n",
              "      a.download = filename;\n",
              "      div.appendChild(a);\n",
              "      a.click();\n",
              "      div.remove();\n",
              "    }\n",
              "  "
            ]
          },
          "metadata": {}
        },
        {
          "output_type": "display_data",
          "data": {
            "text/plain": [
              "<IPython.core.display.Javascript object>"
            ],
            "application/javascript": [
              "download(\"download_6fd5e125-5629-4ee6-b501-050851454013\", \"Entregable1.csv\", 8568)"
            ]
          },
          "metadata": {}
        }
      ]
    }
  ]
}